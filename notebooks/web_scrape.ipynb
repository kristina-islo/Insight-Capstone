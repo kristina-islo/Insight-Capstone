{
 "cells": [
  {
   "cell_type": "code",
   "execution_count": 12,
   "metadata": {
    "ExecuteTime": {
     "end_time": "2020-05-29T21:54:08.137830Z",
     "start_time": "2020-05-29T21:54:08.135603Z"
    }
   },
   "outputs": [],
   "source": [
    "import requests\n",
    "from bs4 import BeautifulSoup"
   ]
  },
  {
   "cell_type": "code",
   "execution_count": 15,
   "metadata": {
    "ExecuteTime": {
     "end_time": "2020-05-29T21:56:17.253421Z",
     "start_time": "2020-05-29T21:56:16.843462Z"
    }
   },
   "outputs": [],
   "source": [
    "seph_url_eg = 'https://www.sephora.com/product/fenty-beauty-rihanna-cheeks-out-freestyle-cream-blush-P19700127'\n",
    "seph_request = requests.get(seph_url_eg)\n",
    "seph_html = seph_request.text"
   ]
  },
  {
   "cell_type": "code",
   "execution_count": 16,
   "metadata": {
    "ExecuteTime": {
     "end_time": "2020-05-29T21:56:21.432503Z",
     "start_time": "2020-05-29T21:56:21.395649Z"
    }
   },
   "outputs": [],
   "source": [
    "soup = BeautifulSoup(seph_html, 'html.parser')"
   ]
  },
  {
   "cell_type": "code",
   "execution_count": 17,
   "metadata": {
    "ExecuteTime": {
     "end_time": "2020-05-29T21:56:40.691514Z",
     "start_time": "2020-05-29T21:56:40.683230Z"
    }
   },
   "outputs": [],
   "source": [
    "price = soup.find('div', class_=\"css-slwsq8\").text\n",
    "product_name = soup.find('span', class_='css-0').text\n",
    "brand_name = soup.find(\"span\", class_=\"css-euydo4\").text"
   ]
  },
  {
   "cell_type": "code",
   "execution_count": 18,
   "metadata": {
    "ExecuteTime": {
     "end_time": "2020-05-29T21:56:51.061480Z",
     "start_time": "2020-05-29T21:56:51.058701Z"
    }
   },
   "outputs": [
    {
     "name": "stdout",
     "output_type": "stream",
     "text": [
      "FENTY BEAUTY by Rihanna Cheeks Out Freestyle Cream Blush $20.00\n"
     ]
    }
   ],
   "source": [
    "print(brand_name, product_name, price)"
   ]
  },
  {
   "cell_type": "code",
   "execution_count": null,
   "metadata": {},
   "outputs": [],
   "source": []
  }
 ],
 "metadata": {
  "kernelspec": {
   "display_name": "insight",
   "language": "python",
   "name": "insight"
  },
  "language_info": {
   "codemirror_mode": {
    "name": "ipython",
    "version": 3
   },
   "file_extension": ".py",
   "mimetype": "text/x-python",
   "name": "python",
   "nbconvert_exporter": "python",
   "pygments_lexer": "ipython3",
   "version": "3.8.2"
  },
  "varInspector": {
   "cols": {
    "lenName": 16,
    "lenType": 16,
    "lenVar": 40
   },
   "kernels_config": {
    "python": {
     "delete_cmd_postfix": "",
     "delete_cmd_prefix": "del ",
     "library": "var_list.py",
     "varRefreshCmd": "print(var_dic_list())"
    },
    "r": {
     "delete_cmd_postfix": ") ",
     "delete_cmd_prefix": "rm(",
     "library": "var_list.r",
     "varRefreshCmd": "cat(var_dic_list()) "
    }
   },
   "types_to_exclude": [
    "module",
    "function",
    "builtin_function_or_method",
    "instance",
    "_Feature"
   ],
   "window_display": false
  }
 },
 "nbformat": 4,
 "nbformat_minor": 4
}
