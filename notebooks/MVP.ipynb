{
  "nbformat": 4,
  "nbformat_minor": 0,
  "metadata": {
    "colab": {
      "name": "MVP.ipynb",
      "provenance": [],
      "collapsed_sections": []
    },
    "kernelspec": {
      "name": "python3",
      "display_name": "Python 3"
    }
  },
  "cells": [
    {
      "cell_type": "code",
      "metadata": {
        "id": "uEdFjhD8x8gv",
        "colab_type": "code",
        "colab": {}
      },
      "source": [
        "# imports\n",
        "import pickle\n",
        "import pandas as pd\n",
        "import numpy as np\n",
        "from heapq import nsmallest\n",
        "\n",
        "# scikit-learn package\n",
        "from sklearn.model_selection import train_test_split\n",
        "from sklearn.ensemble import RandomForestClassifier\n",
        "from sklearn.metrics import accuracy_score, confusion_matrix, roc_curve, auc, roc_auc_score\n",
        "from sklearn.metrics import precision_score, recall_score, f1_score\n",
        "from sklearn.metrics.pairwise import cosine_similarity\n",
        "\n",
        "\n",
        "# Color, images and plotting\n",
        "from PIL import Image\n",
        "import requests\n",
        "from io import BytesIO\n",
        "import matplotlib.pyplot as plt\n",
        "from skimage.color import rgb2lab, deltaE_cie76\n"
      ],
      "execution_count": 0,
      "outputs": []
    },
    {
      "cell_type": "code",
      "metadata": {
        "id": "ufhaidr8ySkj",
        "colab_type": "code",
        "colab": {}
      },
      "source": [
        "category = 'blush'"
      ],
      "execution_count": 0,
      "outputs": []
    },
    {
      "cell_type": "markdown",
      "metadata": {
        "id": "JhiogwA_y8aU",
        "colab_type": "text"
      },
      "source": [
        "## Load data and make more categories"
      ]
    },
    {
      "cell_type": "code",
      "metadata": {
        "id": "5bQE3pyryHzR",
        "colab_type": "code",
        "colab": {}
      },
      "source": [
        "# Load cleaned dataframe\n",
        "df = pd.read_csv('/data/cleaned_data/{}/df.csv'.category)\n",
        "\n",
        "# Include only relevant columns for model\n",
        "relevant_cols = ['eye_color', 'hair_color', 'skin_tone', 'red', 'green', 'blue', 'rating']\n",
        "\n",
        "# Transform non-numeric category values to numeric for compatibility with sklearn \n",
        "dicts = []\n",
        "for category in ['eye_color', 'hair_color', 'skin_tone']:\n",
        "    df[category] = df[category].astype('category')\n",
        "    d = dict(enumerate(df[category].cat.categories))\n",
        "    df[category] = df[category].cat.codes\n",
        "    dicts.append(d)\n",
        "\n",
        "# Save dictionaries for feeding new data to be predicted\n",
        "eye_dict = dicts[0]\n",
        "hair_dict = dicts[1]\n",
        "skin_dict = dicts[2]\n",
        "\n",
        "# Make copy of dataframe, and truncate copy to only include relevant columns\n",
        "df_copy = df.copy()\n",
        "df_copy = df_copy[relevant_cols]"
      ],
      "execution_count": 0,
      "outputs": []
    },
    {
      "cell_type": "markdown",
      "metadata": {
        "id": "dHgLjJXay6pf",
        "colab_type": "text"
      },
      "source": [
        "## Construct classifier"
      ]
    },
    {
      "cell_type": "code",
      "metadata": {
        "id": "-Og_1YKLyy3G",
        "colab_type": "code",
        "colab": {}
      },
      "source": [
        "# Create training and testing data sets\n",
        "train, test = train_test_split(blush_df_copy, random_state=0)\n",
        "\n",
        "X_train = train.drop('rating', axis=1)\n",
        "y_train = train['rating']\n",
        "\n",
        "X_test = test.drop('rating', axis=1)\n",
        "y_test = test['rating']\n",
        "\n",
        "# Train random forest classification model\n",
        "model = RandomForestClassifier().fit(X_train, y_train)\n",
        "\n",
        "# Use model to predict ratings\n",
        "y_predict = model.predict(X_test)"
      ],
      "execution_count": 0,
      "outputs": []
    },
    {
      "cell_type": "markdown",
      "metadata": {
        "id": "l2B4l3qXzLl9",
        "colab_type": "text"
      },
      "source": [
        "## Evaluate model"
      ]
    },
    {
      "cell_type": "code",
      "metadata": {
        "id": "7a-iNrwUy1qA",
        "colab_type": "code",
        "colab": {}
      },
      "source": [
        "# Accuracy on training set\n",
        "print(\"Train accuracy: {}\".format(model.score(X_test, y_test).round(2)))\n",
        "\n",
        "# Accuracy on testing set\n",
        "print(\"Test accuracy: {}\".format(accuracy_score(y_test, y_predict).round(2)))"
      ],
      "execution_count": 0,
      "outputs": []
    },
    {
      "cell_type": "markdown",
      "metadata": {
        "id": "J_lYwwhRzQu-",
        "colab_type": "text"
      },
      "source": [
        "## Feature Importance"
      ]
    },
    {
      "cell_type": "code",
      "metadata": {
        "id": "eifgnhFpzSG8",
        "colab_type": "code",
        "colab": {}
      },
      "source": [
        "# Feature importance dataframe\n",
        "imp_df = pd.DataFrame({'feature': X_train.columns.values,\n",
        "                       'importance': model.feature_importances_})\n",
        " \n",
        "# Reorder by importance\n",
        "ordered_df = imp_df.sort_values(by='importance')\n",
        "imp_range=range(1,len(imp_df.index)+1)\n",
        " \n",
        "## Barplot with confidence intervals\n",
        "height = ordered_df['importance']\n",
        "bars = ordered_df['feature']\n",
        "y_pos = np.arange(len(bars))\n",
        "\n",
        "# Create horizontal bars\n",
        "plt.barh(y_pos, height)\n",
        " \n",
        "# Create names on the y-axis\n",
        "plt.yticks(y_pos, bars)\n",
        "\n",
        "plt.xlabel(\"Mean reduction in tree impurity in random forest\")\n",
        "\n",
        "plt.tight_layout()\n",
        "# Show graphic\n",
        "plt.show()"
      ],
      "execution_count": 0,
      "outputs": []
    },
    {
      "cell_type": "markdown",
      "metadata": {
        "id": "00q_gPSxzV2D",
        "colab_type": "text"
      },
      "source": [
        "## Test User"
      ]
    },
    {
      "cell_type": "code",
      "metadata": {
        "id": "nomejkLqzWSN",
        "colab_type": "code",
        "colab": {}
      },
      "source": [
        "# PANTONE 18-1443 TCX\n",
        "# Redwood\n",
        "r_u = 166\n",
        "g_u = 89\n",
        "b_u = 75\n",
        "\n",
        "\n",
        "# # PANTONE PQ-17-1928TCX\n",
        "# # Bubblegum\n",
        "# r_u = 234\n",
        "# g_u = 115\n",
        "# b_u = 141\n",
        "\n",
        "# # PANTONE 19-3832 TCX\n",
        "# # Navy Blue\n",
        "# r_u = 64\n",
        "# g_u = 63 \n",
        "# b_u = 111\n",
        "\n",
        "lab_u = rgb_to_lab(r_u, g_u, b_u)\n",
        "make_swatch(r_u, g_u, b_u)"
      ],
      "execution_count": 0,
      "outputs": []
    },
    {
      "cell_type": "markdown",
      "metadata": {
        "id": "I0Em144GzgTk",
        "colab_type": "text"
      },
      "source": [
        "### Find color matches"
      ]
    },
    {
      "cell_type": "code",
      "metadata": {
        "id": "pIuW3UL8zZBY",
        "colab_type": "code",
        "colab": {}
      },
      "source": [
        "matches = find_closest_colors(blush_df, lab_u)\n",
        "\n",
        "print('########## TOP 3 PICKS ##########')\n",
        "print('Match 1: {0} in shade{1}'.format(matches.product_name.iloc[0],\n",
        "                                                      matches.review_color.iloc[0]))\n",
        "print('Match 2: {0} in shade{1}'.format(matches.product_name.iloc[1],\n",
        "                                                      matches.review_color.iloc[1]))\n",
        "print('Match 3: {0} in shade{1}'.format(matches.product_name.iloc[2],\n",
        "                                                      matches.review_color.iloc[2]))"
      ],
      "execution_count": 0,
      "outputs": []
    },
    {
      "cell_type": "markdown",
      "metadata": {
        "id": "IjzwJpmIzkNU",
        "colab_type": "text"
      },
      "source": [
        "## Predict ratings"
      ]
    },
    {
      "cell_type": "code",
      "metadata": {
        "id": "sSDKUwJYzeQa",
        "colab_type": "code",
        "colab": {}
      },
      "source": [
        "# give user input\n",
        "eye_color_u = 'Green'\n",
        "skin_tone_u = 'Tan'\n",
        "hair_color_u = 'Black'\n",
        "\n",
        "eye_mapped, hair_mapped, skin_mapped = map_to_dict(eye_color_u, hair_color_u, \n",
        "                                             skin_tone_u, eye_dict, hair_dict, skin_dict)\n",
        "\n",
        "predicted_stars = np.zeros(3)\n",
        "for ii in range(len(matches)):\n",
        "  r = matches.iloc[ii].red\n",
        "  g = matches.iloc[ii].green\n",
        "  b = matches.iloc[ii].blue\n",
        "  predicted_stars[ii] = model.predict([[eye_mapped,hair_mapped, skin_mapped, r, g, b]]) "
      ],
      "execution_count": 0,
      "outputs": []
    },
    {
      "cell_type": "code",
      "metadata": {
        "id": "x8j41j13zqzb",
        "colab_type": "code",
        "colab": {}
      },
      "source": [
        "predicted_stars"
      ],
      "execution_count": 0,
      "outputs": []
    },
    {
      "cell_type": "code",
      "metadata": {
        "id": "8iCk-1nbzr2U",
        "colab_type": "code",
        "colab": {}
      },
      "source": [
        "swatches = [make_swatch(r_u, g_u, b_u)]\n",
        "labels = ['User Input']\n",
        "\n",
        "for ii in range(len(matches)):\n",
        "  swatches.append(make_swatch(matches.iloc[ii].red, \n",
        "                              matches.iloc[ii].green, \n",
        "                              matches.iloc[ii].blue))\n",
        "  labels.append('{0} {1}'.format(matches.product_name.iloc[ii], \n",
        "                                 matches.review_color.iloc[ii]))\n",
        "\n",
        "\n",
        "plt.figure(figsize=(20, 10))\n",
        "for ii in range(len(swatches)):\n",
        "    plt.subplot(1, len(swatches), ii+1)\n",
        "    plt.imshow(swatches[ii],)\n",
        "    plt.title(labels[ii])\n",
        "\n",
        "plt.tight_layout()"
      ],
      "execution_count": 0,
      "outputs": []
    }
  ]
}