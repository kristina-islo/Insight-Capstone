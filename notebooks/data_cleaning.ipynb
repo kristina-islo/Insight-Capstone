{
 "cells": [
  {
   "cell_type": "code",
   "execution_count": 1,
   "metadata": {
    "ExecuteTime": {
     "end_time": "2020-06-04T02:05:07.157969Z",
     "start_time": "2020-06-04T02:05:06.804259Z"
    }
   },
   "outputs": [],
   "source": [
    "import numpy \n",
    "import glob\n",
    "\n",
    "import pandas as pd \n",
    "import re"
   ]
  },
  {
   "cell_type": "markdown",
   "metadata": {},
   "source": [
    "## Define functions"
   ]
  },
  {
   "cell_type": "code",
   "execution_count": 2,
   "metadata": {
    "ExecuteTime": {
     "end_time": "2020-06-04T02:05:07.901847Z",
     "start_time": "2020-06-04T02:05:07.891294Z"
    }
   },
   "outputs": [],
   "source": [
    "def get_user_chars(row):\n",
    "    '''\n",
    "    Input: Named row tuple from dataframe (not a series)\n",
    "    \n",
    "    Output: User eye color, hair color, and skin tone (if provided)\n",
    "    '''    \n",
    "    # Get specs of user\n",
    "    user_specs_list= row.user_specs\n",
    "    \n",
    "    # Initiate new column values\n",
    "#     user_eye_color = np.nan\n",
    "#     user_hair_color = np.nan\n",
    "#     user_skin_tone = np.nan\n",
    "    \n",
    "    # Retrieve eye color \n",
    "    if \"Eye Color\" in user_specs_list:\n",
    "        eye_color = re.findall(\"Eye Color [A-Za-z]*\", user_specs_list)\n",
    "        if len(eye_color) == 1:\n",
    "            user_eye_color = eye_color[0].split(' ')[-1]\n",
    "        else:\n",
    "            print('More than one eye color found for a user!')\n",
    "    else:\n",
    "        user_eye_color = 'rainbow'\n",
    "            \n",
    "    # Retrieve hair color    \n",
    "    if \"Hair color\" in user_specs_list:\n",
    "        hair_color = re.findall(\"Hair color [A-Za-z]*\", user_specs_list)\n",
    "        if len(hair_color) == 1:\n",
    "            user_hair_color = hair_color[0].split(' ')[-1]\n",
    "        else:\n",
    "            print('More than one hair color found for a user!')\n",
    "    else:\n",
    "        user_hair_color = 'invisible'\n",
    "            \n",
    "    # Retrieve skin tone    \n",
    "    if \"Skin Tone\" in user_specs_list:\n",
    "        skin_tone = re.findall(\"Skin Tone [A-Za-z]*\", user_specs_list)\n",
    "        if len(skin_tone) == 1:\n",
    "            user_skin_tone = skin_tone[0].split(' ')[-1]\n",
    "        else:\n",
    "            print('More than one skin tone found for a user!')\n",
    "    else:\n",
    "        user_skin_tone = 'reptilian'\n",
    "            \n",
    "    return user_skin_tone, user_eye_color, user_hair_color\n",
    "\n",
    "def trim_color_val(row):\n",
    "    '''\n",
    "    Input: Named row tuple from dataframe (not a series)\n",
    "    \n",
    "    Output: Reviewed shade name\n",
    "    ''' \n",
    "    # Get review color value\n",
    "    color_raw = row.review_color\n",
    "    \n",
    "    if isinstance(color_raw, str):\n",
    "        \n",
    "        if \"Color:\" in color_raw:\n",
    "            # Retrieve portion after 'Color:'\n",
    "            shade_name = color_raw.split('Color:')[1]\n",
    "            return shade_name\n",
    "        else:\n",
    "            print('Non-conforming color string!')\n",
    "            pass\n",
    "    elif color_raw == np.nan:\n",
    "        # Sometimes this happens for products with only a single shade\n",
    "        # Check if this row has a swatch image link \n",
    "        if row.review_color_img != np.nan:\n",
    "            # Call it RGB for now (will update this when we analyze color swatches)\n",
    "            shade_name = 'RGB'\n",
    "            return shade_name\n",
    "        else:\n",
    "            print('No shade or image! Manually check {}'.format(row.product_name))\n",
    "            pass\n",
    "\n",
    "def trim_star_rating(row):\n",
    "    '''\n",
    "    Input: Named row tuple from dataframe (not a series)\n",
    "    \n",
    "    Output: Numeric only value\n",
    "    ''' \n",
    "    # Get review star rating\n",
    "    rating_raw = row.rating\n",
    "    \n",
    "    if 'star' in rating_raw:\n",
    "        # Retrieve string before 'star[s]'\n",
    "        rating = rating_raw.split(' ')[0]\n",
    "        # Check if it's a digit\n",
    "        if rating.isdigit:\n",
    "            return rating\n",
    "        else:\n",
    "            print('No number in rating found!')\n",
    "            return \n",
    "    else:\n",
    "        print('No star rating found!')\n",
    "        return "
   ]
  },
  {
   "cell_type": "markdown",
   "metadata": {
    "ExecuteTime": {
     "end_time": "2020-06-03T20:36:39.989316Z",
     "start_time": "2020-06-03T20:36:39.987199Z"
    }
   },
   "source": [
    "## Load data and inspect quickly "
   ]
  },
  {
   "cell_type": "code",
   "execution_count": 3,
   "metadata": {
    "ExecuteTime": {
     "end_time": "2020-06-04T02:05:08.773995Z",
     "start_time": "2020-06-04T02:05:08.768583Z"
    }
   },
   "outputs": [],
   "source": [
    "# Meta file\n",
    "blush_meta = pd.read_csv('./data/blush/blush.csv')"
   ]
  },
  {
   "cell_type": "code",
   "execution_count": 4,
   "metadata": {
    "ExecuteTime": {
     "end_time": "2020-06-04T02:05:09.294156Z",
     "start_time": "2020-06-04T02:05:09.284993Z"
    }
   },
   "outputs": [
    {
     "data": {
      "text/plain": [
       "117"
      ]
     },
     "execution_count": 4,
     "metadata": {},
     "output_type": "execute_result"
    }
   ],
   "source": [
    "blush_files = glob.glob('./data/blush/Blush_*.csv')\n",
    "len(blush_files)"
   ]
  },
  {
   "cell_type": "code",
   "execution_count": 5,
   "metadata": {
    "ExecuteTime": {
     "end_time": "2020-06-04T02:05:10.331593Z",
     "start_time": "2020-06-04T02:05:09.852136Z"
    }
   },
   "outputs": [],
   "source": [
    "# Add each blush file to list of dataframes\n",
    "blush_raw = []\n",
    "\n",
    "for file in blush_files:\n",
    "    blush_raw.append(pd.read_csv(file))"
   ]
  },
  {
   "cell_type": "code",
   "execution_count": 6,
   "metadata": {
    "ExecuteTime": {
     "end_time": "2020-06-04T02:05:12.509770Z",
     "start_time": "2020-06-04T02:05:12.386903Z"
    }
   },
   "outputs": [],
   "source": [
    "# concatenate into one dataframe\n",
    "all_blush_raw = pd.concat(blush_raw)"
   ]
  },
  {
   "cell_type": "code",
   "execution_count": 7,
   "metadata": {
    "ExecuteTime": {
     "end_time": "2020-06-04T02:05:14.461950Z",
     "start_time": "2020-06-04T02:05:14.458709Z"
    }
   },
   "outputs": [
    {
     "data": {
      "text/plain": [
       "8443"
      ]
     },
     "execution_count": 7,
     "metadata": {},
     "output_type": "execute_result"
    }
   ],
   "source": [
    "len(all_blush_raw)"
   ]
  },
  {
   "cell_type": "markdown",
   "metadata": {},
   "source": [
    "## Edit dataframe contents"
   ]
  },
  {
   "cell_type": "markdown",
   "metadata": {},
   "source": [
    "### Flesh out user specs"
   ]
  },
  {
   "cell_type": "code",
   "execution_count": 8,
   "metadata": {
    "ExecuteTime": {
     "end_time": "2020-06-04T02:05:16.607163Z",
     "start_time": "2020-06-04T02:05:16.532541Z"
    }
   },
   "outputs": [],
   "source": [
    "# Initiate empty arrays to eventually be added to dataframe\n",
    "eye_colors = []\n",
    "hair_colors = []\n",
    "skin_tones = []\n",
    "\n",
    "# Use function defined above to extract and organize user characteristics\n",
    "for row in all_blush_raw.itertuples(): \n",
    "    user_skin_tone, user_eye_color, user_hair_color = get_user_chars(row)\n",
    "    skin_tones.append(user_skin_tone)\n",
    "    eye_colors.append(user_eye_color)\n",
    "    hair_colors.append(user_hair_color)\n",
    "    "
   ]
  },
  {
   "cell_type": "code",
   "execution_count": 9,
   "metadata": {
    "ExecuteTime": {
     "end_time": "2020-06-04T02:05:18.657885Z",
     "start_time": "2020-06-04T02:05:18.649301Z"
    }
   },
   "outputs": [],
   "source": [
    "# Attach these new columns to copy of original data frame\n",
    "blush_df_copy = all_blush_raw.copy()\n",
    "blush_df_copy['eye_color'] = eye_colors\n",
    "blush_df_copy['hair_color'] = hair_colors\n",
    "blush_df_copy['skin_tone'] = skin_tones"
   ]
  },
  {
   "cell_type": "code",
   "execution_count": 10,
   "metadata": {
    "ExecuteTime": {
     "end_time": "2020-06-04T02:05:20.619325Z",
     "start_time": "2020-06-04T02:05:20.609227Z"
    }
   },
   "outputs": [],
   "source": [
    "# Create new dataframe using our newly added columns and dropping 'user_specs'\n",
    "blush_df = blush_df_copy.drop('user_specs', axis=1)"
   ]
  },
  {
   "cell_type": "code",
   "execution_count": 11,
   "metadata": {
    "ExecuteTime": {
     "end_time": "2020-06-04T02:05:22.721140Z",
     "start_time": "2020-06-04T02:05:22.706202Z"
    }
   },
   "outputs": [
    {
     "name": "stdout",
     "output_type": "stream",
     "text": [
      "Removing 627 out of 8443 rows!\n"
     ]
    }
   ],
   "source": [
    "# Drop users who did not self-report skin tone\n",
    "# Disclosing this wasn't always an option for older products\n",
    "reptilians = len(blush_df[blush_df['skin_tone'] == 'reptilian'])\n",
    "print('Removing {0:d} out of {1:d} rows!'.format(reptilians, len(blush_df)))\n",
    "blush_df = blush_df[blush_df['skin_tone'] != 'reptilian']"
   ]
  },
  {
   "cell_type": "code",
   "execution_count": 12,
   "metadata": {
    "ExecuteTime": {
     "end_time": "2020-06-04T02:05:24.743483Z",
     "start_time": "2020-06-04T02:05:24.737120Z"
    }
   },
   "outputs": [
    {
     "data": {
      "text/plain": [
       "Light        2277\n",
       "Fair         1873\n",
       "Medium       1667\n",
       "Olive         550\n",
       "Porcelain     535\n",
       "Tan           467\n",
       "Deep          277\n",
       "Dark          148\n",
       "Ebony          22\n",
       "Name: skin_tone, dtype: int64"
      ]
     },
     "execution_count": 12,
     "metadata": {},
     "output_type": "execute_result"
    }
   ],
   "source": [
    "# Check it out\n",
    "blush_df['skin_tone'].value_counts()"
   ]
  },
  {
   "cell_type": "markdown",
   "metadata": {
    "ExecuteTime": {
     "end_time": "2020-06-03T20:37:41.603795Z",
     "start_time": "2020-06-03T20:37:41.601775Z"
    }
   },
   "source": [
    "### Trim product color values"
   ]
  },
  {
   "cell_type": "code",
   "execution_count": 13,
   "metadata": {
    "ExecuteTime": {
     "end_time": "2020-06-04T02:05:30.506048Z",
     "start_time": "2020-06-04T02:05:30.503540Z"
    }
   },
   "outputs": [],
   "source": [
    "# initiate empty array to eventually replace 'review_color' values\n",
    "new_review_colors = []"
   ]
  },
  {
   "cell_type": "code",
   "execution_count": 14,
   "metadata": {
    "ExecuteTime": {
     "end_time": "2020-06-04T02:05:32.612263Z",
     "start_time": "2020-06-04T02:05:32.577587Z"
    }
   },
   "outputs": [],
   "source": [
    "# use function defined above to extract shade name\n",
    "for row in blush_df.itertuples():  \n",
    "    new_review_colors.append(trim_color_val(row))\n",
    "    \n",
    "# replace values in existing 'review_color' column\n",
    "blush_df['review_color'] = new_review_colors"
   ]
  },
  {
   "cell_type": "markdown",
   "metadata": {},
   "source": [
    "### Trim star ratings"
   ]
  },
  {
   "cell_type": "code",
   "execution_count": 15,
   "metadata": {
    "ExecuteTime": {
     "end_time": "2020-06-04T02:05:34.825562Z",
     "start_time": "2020-06-04T02:05:34.823327Z"
    }
   },
   "outputs": [],
   "source": [
    "# initiate empty array to eventually replace 'rating' values\n",
    "new_rating = []"
   ]
  },
  {
   "cell_type": "code",
   "execution_count": 16,
   "metadata": {
    "ExecuteTime": {
     "end_time": "2020-06-04T02:05:37.054205Z",
     "start_time": "2020-06-04T02:05:37.015149Z"
    }
   },
   "outputs": [],
   "source": [
    "# use function defined above to extract number of stars\n",
    "for row in blush_df.itertuples():  \n",
    "    new_rating.append(trim_star_rating(row))\n",
    "    \n",
    "# replace values in existing 'rating' column \n",
    "blush_df['rating'] = new_rating"
   ]
  },
  {
   "cell_type": "code",
   "execution_count": 17,
   "metadata": {
    "ExecuteTime": {
     "end_time": "2020-06-04T02:05:39.223947Z",
     "start_time": "2020-06-04T02:05:39.199807Z"
    }
   },
   "outputs": [
    {
     "data": {
      "text/html": [
       "<div>\n",
       "<style scoped>\n",
       "    .dataframe tbody tr th:only-of-type {\n",
       "        vertical-align: middle;\n",
       "    }\n",
       "\n",
       "    .dataframe tbody tr th {\n",
       "        vertical-align: top;\n",
       "    }\n",
       "\n",
       "    .dataframe thead th {\n",
       "        text-align: right;\n",
       "    }\n",
       "</style>\n",
       "<table border=\"1\" class=\"dataframe\">\n",
       "  <thead>\n",
       "    <tr style=\"text-align: right;\">\n",
       "      <th></th>\n",
       "      <th>product_category</th>\n",
       "      <th>brand</th>\n",
       "      <th>product_name</th>\n",
       "      <th>user_id</th>\n",
       "      <th>BIP_level</th>\n",
       "      <th>BIC_level</th>\n",
       "      <th>rating</th>\n",
       "      <th>review_date</th>\n",
       "      <th>verified</th>\n",
       "      <th>review_color</th>\n",
       "      <th>review_color_img</th>\n",
       "      <th>review_title</th>\n",
       "      <th>review_content</th>\n",
       "      <th>no_helpful</th>\n",
       "      <th>no_not_helpful</th>\n",
       "      <th>recommendation</th>\n",
       "      <th>review_product_color</th>\n",
       "      <th>eye_color</th>\n",
       "      <th>hair_color</th>\n",
       "      <th>skin_tone</th>\n",
       "    </tr>\n",
       "  </thead>\n",
       "  <tbody>\n",
       "    <tr>\n",
       "      <th>0</th>\n",
       "      <td>blush</td>\n",
       "      <td>MELT COSMETICS</td>\n",
       "      <td>Melt Cosmetics Blushlight</td>\n",
       "      <td>pearlember</td>\n",
       "      <td>Insider</td>\n",
       "      <td>Rookie</td>\n",
       "      <td>5</td>\n",
       "      <td>23 d ago</td>\n",
       "      <td>yes</td>\n",
       "      <td>Electra</td>\n",
       "      <td>https://www.sephora.com/productimages/sku/s223...</td>\n",
       "      <td>NaN</td>\n",
       "      <td>Love the pigmentation, love how it lasts all d...</td>\n",
       "      <td>0</td>\n",
       "      <td>0</td>\n",
       "      <td>Recommends this product</td>\n",
       "      <td>NaN</td>\n",
       "      <td>Blue</td>\n",
       "      <td>Brunette</td>\n",
       "      <td>Porcelain</td>\n",
       "    </tr>\n",
       "    <tr>\n",
       "      <th>1</th>\n",
       "      <td>blush</td>\n",
       "      <td>MELT COSMETICS</td>\n",
       "      <td>Melt Cosmetics Blushlight</td>\n",
       "      <td>Cleareyesfullbr</td>\n",
       "      <td>Rouge</td>\n",
       "      <td>Rookie</td>\n",
       "      <td>5</td>\n",
       "      <td>7 Feb 2020</td>\n",
       "      <td>no</td>\n",
       "      <td>Lynx</td>\n",
       "      <td>https://www.sephora.com/productimages/sku/s222...</td>\n",
       "      <td>Glowy and pretty!</td>\n",
       "      <td>This is so easy to apply and blend! The formul...</td>\n",
       "      <td>0</td>\n",
       "      <td>0</td>\n",
       "      <td>Recommends this product</td>\n",
       "      <td>NaN</td>\n",
       "      <td>Brown</td>\n",
       "      <td>Brunette</td>\n",
       "      <td>Light</td>\n",
       "    </tr>\n",
       "    <tr>\n",
       "      <th>2</th>\n",
       "      <td>blush</td>\n",
       "      <td>MELT COSMETICS</td>\n",
       "      <td>Melt Cosmetics Blushlight</td>\n",
       "      <td>hulkmogan</td>\n",
       "      <td>Rouge</td>\n",
       "      <td>Rookie</td>\n",
       "      <td>5</td>\n",
       "      <td>20 Jan 2020</td>\n",
       "      <td>yes</td>\n",
       "      <td>Sundown</td>\n",
       "      <td>https://www.sephora.com/productimages/sku/s222...</td>\n",
       "      <td>NaN</td>\n",
       "      <td>Gorgeous glowy blush. Great buildable formula....</td>\n",
       "      <td>0</td>\n",
       "      <td>0</td>\n",
       "      <td>Recommends this product</td>\n",
       "      <td>NaN</td>\n",
       "      <td>Brown</td>\n",
       "      <td>Brunette</td>\n",
       "      <td>Deep</td>\n",
       "    </tr>\n",
       "    <tr>\n",
       "      <th>3</th>\n",
       "      <td>blush</td>\n",
       "      <td>MELT COSMETICS</td>\n",
       "      <td>Melt Cosmetics Blushlight</td>\n",
       "      <td>Cudsyskeeper</td>\n",
       "      <td>NaN</td>\n",
       "      <td>NaN</td>\n",
       "      <td>4</td>\n",
       "      <td>25 Nov 2019</td>\n",
       "      <td>yes</td>\n",
       "      <td>Sundown</td>\n",
       "      <td>https://www.sephora.com/productimages/sku/s222...</td>\n",
       "      <td>NaN</td>\n",
       "      <td>Great Blush for olive skin. I purchased this s...</td>\n",
       "      <td>1</td>\n",
       "      <td>0</td>\n",
       "      <td>Recommends this product</td>\n",
       "      <td>NaN</td>\n",
       "      <td>Brown</td>\n",
       "      <td>Brunette</td>\n",
       "      <td>Olive</td>\n",
       "    </tr>\n",
       "    <tr>\n",
       "      <th>4</th>\n",
       "      <td>blush</td>\n",
       "      <td>MELT COSMETICS</td>\n",
       "      <td>Melt Cosmetics Blushlight</td>\n",
       "      <td>erica0000</td>\n",
       "      <td>VIB</td>\n",
       "      <td>Rookie</td>\n",
       "      <td>5</td>\n",
       "      <td>16 Nov 2019</td>\n",
       "      <td>yes</td>\n",
       "      <td>Nevermore</td>\n",
       "      <td>https://www.sephora.com/productimages/sku/s222...</td>\n",
       "      <td>New favorite blush</td>\n",
       "      <td>My only complaint is that they don't make more...</td>\n",
       "      <td>2</td>\n",
       "      <td>0</td>\n",
       "      <td>Recommends this product</td>\n",
       "      <td>NaN</td>\n",
       "      <td>Brown</td>\n",
       "      <td>Brunette</td>\n",
       "      <td>Medium</td>\n",
       "    </tr>\n",
       "  </tbody>\n",
       "</table>\n",
       "</div>"
      ],
      "text/plain": [
       "  product_category           brand               product_name  \\\n",
       "0            blush  MELT COSMETICS  Melt Cosmetics Blushlight   \n",
       "1            blush  MELT COSMETICS  Melt Cosmetics Blushlight   \n",
       "2            blush  MELT COSMETICS  Melt Cosmetics Blushlight   \n",
       "3            blush  MELT COSMETICS  Melt Cosmetics Blushlight   \n",
       "4            blush  MELT COSMETICS  Melt Cosmetics Blushlight   \n",
       "\n",
       "           user_id BIP_level BIC_level rating  review_date verified  \\\n",
       "0       pearlember   Insider    Rookie      5     23 d ago      yes   \n",
       "1  Cleareyesfullbr     Rouge    Rookie      5   7 Feb 2020       no   \n",
       "2        hulkmogan     Rouge    Rookie      5  20 Jan 2020      yes   \n",
       "3     Cudsyskeeper       NaN       NaN      4  25 Nov 2019      yes   \n",
       "4        erica0000       VIB    Rookie      5  16 Nov 2019      yes   \n",
       "\n",
       "  review_color                                   review_color_img  \\\n",
       "0      Electra  https://www.sephora.com/productimages/sku/s223...   \n",
       "1         Lynx  https://www.sephora.com/productimages/sku/s222...   \n",
       "2      Sundown  https://www.sephora.com/productimages/sku/s222...   \n",
       "3      Sundown  https://www.sephora.com/productimages/sku/s222...   \n",
       "4    Nevermore  https://www.sephora.com/productimages/sku/s222...   \n",
       "\n",
       "         review_title                                     review_content  \\\n",
       "0                 NaN  Love the pigmentation, love how it lasts all d...   \n",
       "1   Glowy and pretty!  This is so easy to apply and blend! The formul...   \n",
       "2                 NaN  Gorgeous glowy blush. Great buildable formula....   \n",
       "3                 NaN  Great Blush for olive skin. I purchased this s...   \n",
       "4  New favorite blush  My only complaint is that they don't make more...   \n",
       "\n",
       "  no_helpful no_not_helpful           recommendation review_product_color  \\\n",
       "0          0              0  Recommends this product                  NaN   \n",
       "1          0              0  Recommends this product                  NaN   \n",
       "2          0              0  Recommends this product                  NaN   \n",
       "3          1              0  Recommends this product                  NaN   \n",
       "4          2              0  Recommends this product                  NaN   \n",
       "\n",
       "  eye_color hair_color  skin_tone  \n",
       "0      Blue   Brunette  Porcelain  \n",
       "1     Brown   Brunette      Light  \n",
       "2     Brown   Brunette       Deep  \n",
       "3     Brown   Brunette      Olive  \n",
       "4     Brown   Brunette     Medium  "
      ]
     },
     "execution_count": 17,
     "metadata": {},
     "output_type": "execute_result"
    }
   ],
   "source": [
    "blush_df.head()"
   ]
  },
  {
   "cell_type": "code",
   "execution_count": 18,
   "metadata": {
    "ExecuteTime": {
     "end_time": "2020-06-04T02:05:41.371877Z",
     "start_time": "2020-06-04T02:05:41.366581Z"
    }
   },
   "outputs": [],
   "source": [
    "# sometimes this extra column slips into scraped data (hopefully fixed!)\n",
    "try:\n",
    "    blush_df.drop('review_product_color', axis=1)\n",
    "except:\n",
    "    pass"
   ]
  },
  {
   "cell_type": "markdown",
   "metadata": {
    "ExecuteTime": {
     "end_time": "2020-06-04T00:41:30.336270Z",
     "start_time": "2020-06-04T00:41:30.334271Z"
    }
   },
   "source": [
    "### Replace categorical variables with dummy/indicator variables"
   ]
  },
  {
   "cell_type": "code",
   "execution_count": 19,
   "metadata": {
    "ExecuteTime": {
     "end_time": "2020-06-04T02:05:43.393654Z",
     "start_time": "2020-06-04T02:05:43.386062Z"
    }
   },
   "outputs": [],
   "source": [
    "# Eye and hair color, skin tone\n",
    "dummy_eye_color = pd.get_dummies(blush_df['eye_color'])\n",
    "dummy_skin_tone= pd.get_dummies(blush_df['skin_tone'])\n",
    "dummy_hair_color = pd.get_dummies(blush_df['hair_color'])"
   ]
  },
  {
   "cell_type": "code",
   "execution_count": 20,
   "metadata": {
    "ExecuteTime": {
     "end_time": "2020-06-04T02:05:45.587027Z",
     "start_time": "2020-06-04T02:05:45.582749Z"
    }
   },
   "outputs": [],
   "source": [
    "# BIP (Beauty Insider Program Status [a measure of how frequent this user purchases, essentially])\n",
    "# In decreasing order: ROUGE(>$1000/yr), VIB(>$350/yr), Insider(>$350/yr)\n",
    "BIP_dict = {'Insider': 0, 'VIB': 1, 'Rouge': 2}\n",
    "\n",
    "# BIC (Beauty Insider Community Status [a measure of engagement in Sephora's community])\n",
    "# In decreasing order: Boss, Rookie (I and II)\n",
    "BIC_dict = {'Rookie': 0, 'Boss':1}\n",
    "\n",
    "# Can Sephora confirm the user purchased the product through their site?\n",
    "verified_dict = {'yes': 1, 'no': 0}\n",
    "\n",
    "# Recommendation (i.e., does this user recommend the product?)\n",
    "rec_dict= {'Recommends this product': 1, '':0}"
   ]
  },
  {
   "cell_type": "code",
   "execution_count": null,
   "metadata": {
    "ExecuteTime": {
     "start_time": "2020-06-04T02:05:46.154Z"
    }
   },
   "outputs": [],
   "source": [
    "# Merge dummy dataframes into existing one\n",
    "blush_df = blush_df.merge(dummy_eye_color, left_index=True, right_index=True)\n",
    "blush_df = blush_df.merge(dummy_hair_color, left_index=True, right_index=True)\n",
    "blush_df = blush_df.merge(dummy_skin_tone, left_index=True, right_index=True)"
   ]
  },
  {
   "cell_type": "code",
   "execution_count": null,
   "metadata": {
    "ExecuteTime": {
     "start_time": "2020-06-04T02:02:55.742Z"
    }
   },
   "outputs": [],
   "source": [
    "blush_df.head()"
   ]
  }
 ],
 "metadata": {
  "kernelspec": {
   "display_name": "insight",
   "language": "python",
   "name": "insight"
  },
  "language_info": {
   "codemirror_mode": {
    "name": "ipython",
    "version": 3
   },
   "file_extension": ".py",
   "mimetype": "text/x-python",
   "name": "python",
   "nbconvert_exporter": "python",
   "pygments_lexer": "ipython3",
   "version": "3.8.2"
  },
  "varInspector": {
   "cols": {
    "lenName": 16,
    "lenType": 16,
    "lenVar": 40
   },
   "kernels_config": {
    "python": {
     "delete_cmd_postfix": "",
     "delete_cmd_prefix": "del ",
     "library": "var_list.py",
     "varRefreshCmd": "print(var_dic_list())"
    },
    "r": {
     "delete_cmd_postfix": ") ",
     "delete_cmd_prefix": "rm(",
     "library": "var_list.r",
     "varRefreshCmd": "cat(var_dic_list()) "
    }
   },
   "types_to_exclude": [
    "module",
    "function",
    "builtin_function_or_method",
    "instance",
    "_Feature"
   ],
   "window_display": false
  }
 },
 "nbformat": 4,
 "nbformat_minor": 4
}
